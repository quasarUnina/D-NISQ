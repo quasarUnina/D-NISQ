{
 "cells": [
  {
   "cell_type": "markdown",
   "metadata": {},
   "source": [
    "# Distributed Grover's Search\n",
    "____\n",
    "\n",
    "\n",
    "This python notebook is useful to exploit a distributed version of the<b> Grover's algorithm </b> implemented according the D-NISQ reference model proposed in the article \"Distributed Noisy-Intermediate Scale Quantum: an Application to Grover-based Algorithms\" by Giovanni Acampora, Ferdinando Di Martino, Alfredo Massa, Roberto Schiattarella, Autilia Vitiello submitted to the journal Information Fusion (Elsevier).\n",
    " \n",
    "For more detail about the  Grover's Algorithn (GA) and its distributed version on the D-NISQ architecture, please, refer to the aforementioned paper.\n",
    " \n",
    "Let us start importing the required libreries. "
   ]
  },
  {
   "cell_type": "code",
   "execution_count": null,
   "metadata": {},
   "outputs": [],
   "source": [
    "from threading import *\n",
    "from concurrent.futures import *\n",
    "from datetime import datetime\n",
    "from statistics import mean\n",
    "\n",
    "from GroverCircuitBuilder import *\n",
    "from QuantumComputing import *\n",
    "from DistributedGroverAlgorithm_1 import *\n",
    "dateandtime = datetime.now().strftime(\"%d.%m.%Y  %H.%M.%S\")"
   ]
  },
  {
   "cell_type": "markdown",
   "metadata": {},
   "source": [
    "After importing the required libraries, it is necessary to set the backend to be used for running GA. \n",
    "\n",
    "Distributed GA can be executed both on simulators and real devices. Note, that for using real IBM quantum computers you need an access provider.\n",
    "\n",
    "Please, set:\n",
    "    \n",
    "   - SIMULATION: True for simulating the algorithm, False for using a real quantum device.\n",
    "    \n",
    "   - DIFFERENT_BACKENDS: True to assign different backends to different sub-problems. False to use the same backend for all the sub-problems;\n",
    "\n",
    "   - SHOTS: Number of shots in each backend;\n",
    "    \n",
    "   - RUN: number of executions of the algorithm;\n",
    "\n",
    "As defult, in the case <i> SIMULATION = True </i> a fake backend will be used, so the simulation will take in account the noise of the quantum device. Please, specify the fake device you want to use in the BACKEND variable in SIMULATION PARAMETERS. Moreover, if you intend to simulate the algorithm without noise, you can set <i> NOISE = False </i> to use the 'qasm_simulator'.\n",
    "\n",
    "On the other hand, if you want to use a real quantum device you have to set your IBM account details in the REAL EXECUTION PARAMETERS part of the following cell and pass in the BACKEND variable the name of the quantum device you are going to use as string. \n",
    " "
   ]
  },
  {
   "cell_type": "code",
   "execution_count": null,
   "metadata": {},
   "outputs": [],
   "source": [
    "# BACKEND SETTINGS ----------------------------------------------------------------------------------------------------\n",
    "\n",
    "SIMULATION = True                       \n",
    "DIFFERENT_BACKENDS = False \n",
    "SHOTS = 8192\n",
    "RUN = 1\n",
    "\n",
    "\n",
    "# SIMULATION PARAMETERS --------------------------------------------------------------- \n",
    "if SIMULATION:\n",
    "    NOISE = True       \n",
    "    BACKEND = FakeAlmaden()                  \n",
    "    PROVIDER=None\n",
    "# REAL EXECUTION PARAMETERS ---------------------------------------------------------------    \n",
    "else:\n",
    "    IBMQ.enable_account('INSERT TOKEN')\n",
    "    PROVIDER = IBMQ.get_provider(hub='HUB', group='GROUP', project ='MAIN')\n",
    "    BACKEND = 'ibmq_almaden'                  "
   ]
  },
  {
   "cell_type": "markdown",
   "metadata": {},
   "source": [
    "Moreover, it is necessary some parameters to store results:\n",
    "\n",
    "   - REPORT_FILE : set True to create a .txt log file;\n",
    "   - FILE_PATH : specify the log file path\n",
    "   - FILE_NAME : specify the log file name."
   ]
  },
  {
   "cell_type": "code",
   "execution_count": null,
   "metadata": {},
   "outputs": [],
   "source": [
    "# GENERAL SETTINGS ----------------------------------------------------------------------------------------------------\n",
    "                \n",
    "REPORT_FILE = False                     \n",
    "FILE_PATH = f\"C:\\\\\"\n",
    "FILE_NAME = f\"Report_{dateandtime}.txt\""
   ]
  },
  {
   "cell_type": "markdown",
   "metadata": {},
   "source": [
    "Provide informations about the database on which execute the Grover's Search:\n",
    "\n",
    "   - N : database size. (It must be a power of 2);\n",
    "   - WINNER : winner item. Please, note that it is an arbitrary variable;\n",
    "   - OTHER : non-winner strings to fill the database. Also this variable is arbitrary;\n",
    "   - WINNER_INDEX : location in the database of the winner item. (arbitrary).\n",
    "\n",
    "  \n",
    "  "
   ]
  },
  {
   "cell_type": "code",
   "execution_count": null,
   "metadata": {},
   "outputs": [],
   "source": [
    "# DATABASE SETTINGS ---------------------------------------------------------------------------------------------------\n",
    "\n",
    "N = 128                                    \n",
    "WINNER = \"1111111111\"                    \n",
    "OTHER = \"0000000000\"                     \n",
    "WINNER_INDEX = 10                        \n"
   ]
  },
  {
   "cell_type": "markdown",
   "metadata": {},
   "source": [
    "Set the parameters for the D-Nisq architecture:\n",
    "\n",
    "   - NUMBER_OF_SUBPROBLEMS: the number of sub-problems created by the  Decomposition Layer \n"
   ]
  },
  {
   "cell_type": "code",
   "execution_count": null,
   "metadata": {},
   "outputs": [],
   "source": [
    "# PARALLELISM SETTINGS ------------------------------------------------------------------------------------------------\n",
    "\n",
    "NUMBER_OF_SUBPROBLEMS = 32               # Set 1 to perform a standard search without parallelism\n"
   ]
  },
  {
   "cell_type": "markdown",
   "metadata": {},
   "source": [
    "Finally, set the parameters for the Grover's algorithms:\n",
    "\n",
    "   - MANUAL_ITERATIONS: an integer indicating the number of iterations of each Grover's algorithm\n",
    "   - HISTOGRAMS: True to plot counts histograms at the end of each Grover search"
   ]
  },
  {
   "cell_type": "code",
   "execution_count": null,
   "metadata": {},
   "outputs": [],
   "source": [
    "# GROVER'S ALGORITHM SETTINGS -----------------------------------------------------------------------------------------\n",
    "\n",
    "MANUAL_ITERATIONS = 1                \n",
    "HISTOGRAMS = False                       \n"
   ]
  },
  {
   "cell_type": "markdown",
   "metadata": {},
   "source": [
    "Run the following cell to import the backend, build the database and the quantum circuit useful to implement the Grover's search in each thread. "
   ]
  },
  {
   "cell_type": "code",
   "execution_count": null,
   "metadata": {},
   "outputs": [],
   "source": [
    "# DISTRIBUTED GROVER'S SEARCH -----------------------------------------------------------------------------------------\n",
    "\n",
    "max_times = []\n",
    "successes = 0\n",
    "sub_N = int(N / NUMBER_OF_SUBPROBLEMS)\n",
    "\n",
    "assert N % NUMBER_OF_SUBPROBLEMS == 0, \"Please choose the number of subproblems as a divisor of N.\"\n",
    "\n",
    "sub_n = int(log(sub_N, 2))\n",
    "THREADLOCK = Lock()\n",
    "\n",
    "write_report(report_opening(dateandtime, RUN, N, NUMBER_OF_SUBPROBLEMS, sub_N, sub_n, MANUAL_ITERATIONS, SHOTS,\n",
    "                           SIMULATION, NOISE, DIFFERENT_BACKENDS, BACKEND), REPORT_FILE, FILE_PATH + FILE_NAME)\n",
    "\n",
    "if SIMULATION and NOISE:\n",
    "    print(\"\\nCreating a mock-backend list...\")\n",
    "    MOCK_BACKEND_LIST = [QasmSimulator.from_backend(BACKEND) for _ in range(NUMBER_OF_SUBPROBLEMS)]\n",
    "    print(\"\\nMock-backend list created.\")\n",
    "else:\n",
    "    MOCK_BACKEND_LIST = None\n",
    "\n",
    "if DIFFERENT_BACKENDS:\n",
    "    backend_list, backend_information = ask_for_backends(NUMBER_OF_SUBPROBLEMS)\n",
    "    write_report(backend_information, REPORT_FILE, FILE_PATH + FILE_NAME)\n",
    "\n",
    "database = create_database(N, WINNER, OTHER, WINNER_INDEX)\n",
    "sub_databases, winner_coordinates = create_sub_databases(database, NUMBER_OF_SUBPROBLEMS, sub_N, WINNER)\n",
    "sub_basis = create_sub_basis(NUMBER_OF_SUBPROBLEMS, sub_N, sub_n)\n",
    "sub_oracles = create_sub_oracles(NUMBER_OF_SUBPROBLEMS, sub_N, winner_coordinates)\n",
    "sub_diffusers = create_sub_diffusers(NUMBER_OF_SUBPROBLEMS, sub_N, sub_basis)\n",
    "\n",
    "sub_grover_circuits = [grover_circuit_builder(sub_N, sub_n, sub_oracles[i], sub_diffusers[i], MANUAL_ITERATIONS)\n",
    "                       for i in range(NUMBER_OF_SUBPROBLEMS)]\n",
    "\n",
    "\n"
   ]
  },
  {
   "cell_type": "markdown",
   "metadata": {},
   "source": [
    "Execute the Distributed Grover's Search for a number of runs indicated in the aforementioned variable RUN."
   ]
  },
  {
   "cell_type": "code",
   "execution_count": null,
   "metadata": {},
   "outputs": [],
   "source": [
    "for run in range(RUN):\n",
    "\n",
    "    run_information = f\"\\n\\n\\n------------------------ RUN {run+1} -----------------------------\\n\"\n",
    "    write_report(run_information, REPORT_FILE, FILE_PATH + FILE_NAME)                    \n",
    "    results = distributed_grover_search(NUMBER_OF_SUBPROBLEMS, sub_grover_circuits, SIMULATION, NOISE, SHOTS, BACKEND,\n",
    "                                        MOCK_BACKEND_LIST, PROVIDER)\n",
    "\n",
    "    sub_counts, counts_information = get_counts(results, NUMBER_OF_SUBPROBLEMS)\n",
    "    write_report(counts_information, REPORT_FILE, FILE_PATH + FILE_NAME)\n",
    "\n",
    "    execution_times, max_time, times_information = get_times(results, NUMBER_OF_SUBPROBLEMS)\n",
    "    max_times.append(max_time)\n",
    "    write_report(times_information, REPORT_FILE, FILE_PATH + FILE_NAME)\n",
    "\n",
    "    success, success_information = verify_success(NUMBER_OF_SUBPROBLEMS, sub_N, sub_n, sub_counts, WINNER_INDEX)\n",
    "    write_report(success_information, REPORT_FILE, FILE_PATH + FILE_NAME)\n",
    "\n",
    "    if success:\n",
    "        successes += 1\n",
    "\n",
    "    write_report(current_situation(run + 1, max_times, successes), REPORT_FILE, FILE_PATH + FILE_NAME)\n",
    "\n",
    "    if HISTOGRAMS:\n",
    "        show_data(NUMBER_OF_SUBPROBLEMS, sub_counts)\n",
    "\n",
    "write_report(\"\\n\\n\\n\\n\", REPORT_FILE, FILE_PATH + FILE_NAME)\n"
   ]
  },
  {
   "cell_type": "markdown",
   "metadata": {},
   "source": [
    "In the output of the above cell, it can be seen the success rate of the Distributed Grover's Algorithm. Moreover, during the execution indications about the status of each thread and the counts obtaining at the end of each sub-search are given.\n",
    "\n",
    "Now, a not distributed Grover's search can be conducted so as to obtain a comparison in terms of success rate with the distributed Grover's algorithm. \n",
    "\n",
    "To perform the standard Grover's search it has to be set the variable <i> NUMBER_OF_SUBPROBLEMS = 1</i>. Please, set the number of queries to the Grover's oracle as $O(\\sqrt(N))$ to maximize the probability of find the right item in the database."
   ]
  },
  {
   "cell_type": "code",
   "execution_count": null,
   "metadata": {},
   "outputs": [],
   "source": [
    "NUMBER_OF_SUBPROBLEMS = 1\n",
    "MANUAL_ITERATIONS = 8  \n"
   ]
  },
  {
   "cell_type": "code",
   "execution_count": null,
   "metadata": {},
   "outputs": [],
   "source": [
    " # STANDARD GROVER'S SEARCH -----------------------------------------------------------------------------------------\n",
    "\n",
    "max_times = []\n",
    "successes = 0\n",
    "sub_N = int(N / NUMBER_OF_SUBPROBLEMS)\n",
    "\n",
    "assert N % NUMBER_OF_SUBPROBLEMS == 0, \"Please choose the number of subproblems as a divisor of N.\"\n",
    "\n",
    "sub_n = int(log(sub_N, 2))\n",
    "THREADLOCK = Lock()\n",
    "\n",
    "write_report(report_opening(dateandtime, RUN, N, NUMBER_OF_SUBPROBLEMS, sub_N, sub_n, MANUAL_ITERATIONS, SHOTS,\n",
    "                           SIMULATION, NOISE, DIFFERENT_BACKENDS, BACKEND), REPORT_FILE, FILE_PATH + FILE_NAME)\n",
    "\n",
    "if SIMULATION and NOISE:\n",
    "    print(\"\\nCreating a mock-backend list...\")\n",
    "    MOCK_BACKEND_LIST = [QasmSimulator.from_backend(BACKEND) for _ in range(NUMBER_OF_SUBPROBLEMS)]\n",
    "    print(\"\\nMock-backend list created.\")\n",
    "else:\n",
    "    MOCK_BACKEND_LIST = None\n",
    "\n",
    "if DIFFERENT_BACKENDS:\n",
    "    backend_list, backend_information = ask_for_backends(NUMBER_OF_SUBPROBLEMS)\n",
    "    write_report(backend_information, REPORT_FILE, FILE_PATH + FILE_NAME)\n",
    "\n",
    "database = create_database(N, WINNER, OTHER, WINNER_INDEX)\n",
    "sub_databases, winner_coordinates = create_sub_databases(database, NUMBER_OF_SUBPROBLEMS, sub_N, WINNER)\n",
    "sub_basis = create_sub_basis(NUMBER_OF_SUBPROBLEMS, sub_N, sub_n)\n",
    "sub_oracles = create_sub_oracles(NUMBER_OF_SUBPROBLEMS, sub_N, winner_coordinates)\n",
    "sub_diffusers = create_sub_diffusers(NUMBER_OF_SUBPROBLEMS, sub_N, sub_basis)\n",
    "\n",
    "sub_grover_circuits = [grover_circuit_builder(sub_N, sub_n, sub_oracles[i], sub_diffusers[i], MANUAL_ITERATIONS)\n",
    "                       for i in range(NUMBER_OF_SUBPROBLEMS)]\n",
    "\n",
    "\n",
    "\n"
   ]
  },
  {
   "cell_type": "markdown",
   "metadata": {},
   "source": [
    "Finally, you can run the following cell to execute the standard Grover's search and check for the results."
   ]
  },
  {
   "cell_type": "code",
   "execution_count": null,
   "metadata": {},
   "outputs": [],
   "source": [
    "for run in range(RUN):\n",
    "\n",
    "    run_information = f\"\\n\\n\\n------------------------ RUN {run+1} -----------------------------\\n\"\n",
    "    write_report(run_information, REPORT_FILE, FILE_PATH + FILE_NAME)                    \n",
    "    results = distributed_grover_search(NUMBER_OF_SUBPROBLEMS, sub_grover_circuits, SIMULATION, NOISE, SHOTS, BACKEND,\n",
    "                                        MOCK_BACKEND_LIST, PROVIDER)\n",
    "\n",
    "    sub_counts, counts_information = get_counts(results, NUMBER_OF_SUBPROBLEMS)\n",
    "    write_report(counts_information, REPORT_FILE, FILE_PATH + FILE_NAME)\n",
    "\n",
    "    execution_times, max_time, times_information = get_times(results, NUMBER_OF_SUBPROBLEMS)\n",
    "    max_times.append(max_time)\n",
    "    write_report(times_information, REPORT_FILE, FILE_PATH + FILE_NAME)\n",
    "\n",
    "    success, success_information = verify_success(NUMBER_OF_SUBPROBLEMS, sub_N, sub_n, sub_counts, WINNER_INDEX)\n",
    "    write_report(success_information, REPORT_FILE, FILE_PATH + FILE_NAME)\n",
    "\n",
    "    if success:\n",
    "        successes += 1\n",
    "\n",
    "    write_report(current_situation(run + 1, max_times, successes), REPORT_FILE, FILE_PATH + FILE_NAME)\n",
    "\n",
    "    if HISTOGRAMS:\n",
    "        show_data(NUMBER_OF_SUBPROBLEMS, sub_counts)\n",
    "\n",
    "write_report(\"\\n\\n\\n\\n\", REPORT_FILE, FILE_PATH + FILE_NAME)\n"
   ]
  }
 ],
 "metadata": {
  "kernelspec": {
   "display_name": "quantum",
   "language": "python",
   "name": "quantum"
  },
  "language_info": {
   "codemirror_mode": {
    "name": "ipython",
    "version": 3
   },
   "file_extension": ".py",
   "mimetype": "text/x-python",
   "name": "python",
   "nbconvert_exporter": "python",
   "pygments_lexer": "ipython3",
   "version": "3.7.6"
  }
 },
 "nbformat": 4,
 "nbformat_minor": 4
}
